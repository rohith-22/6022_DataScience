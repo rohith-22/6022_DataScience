{
  "nbformat": 4,
  "nbformat_minor": 0,
  "metadata": {
    "anaconda-cloud": {},
    "kernelspec": {
      "display_name": "Python 3",
      "language": "python",
      "name": "python3"
    },
    "language_info": {
      "codemirror_mode": {
        "name": "ipython",
        "version": 3
      },
      "file_extension": ".py",
      "mimetype": "text/x-python",
      "name": "python",
      "nbconvert_exporter": "python",
      "pygments_lexer": "ipython3",
      "version": "3.6.1"
    },
    "colab": {
      "name": "Week_2_project.ipynb",
      "version": "0.3.2",
      "provenance": []
    }
  },
  "cells": [
    {
      "cell_type": "markdown",
      "metadata": {
        "id": "m7D0wf3DpVp9",
        "colab_type": "text"
      },
      "source": [
        "# CS 109A/STAT 121A/AC 209A/CSCI E-109A: Homework 3\n",
        "# Multiple Linear Regression, Subset Selection, Cross Validation\n",
        "\n",
        "**Harvard University**<br/>\n",
        "**Fall 2017**<br/>\n",
        "**Instructors**: Pavlos Protopapas, Kevin Rader, Rahul Dave, Margo Levine\n",
        "\n",
        "---\n",
        "\n",
        "### INSTRUCTIONS\n",
        "\n",
        "- To submit your assignment follow the instructions given in canvas.\n",
        "- Restart the kernel and run the whole notebook again before you submit. \n",
        "- Do not include your name(s) in the notebook if you are submitting as a group. \n",
        "- If you submit individually and you have worked with someone, please include the name of your [one] partner below. \n",
        "\n",
        "---"
      ]
    },
    {
      "cell_type": "markdown",
      "metadata": {
        "collapsed": true,
        "id": "trbdplVxpVp-",
        "colab_type": "text"
      },
      "source": [
        "Your partner's name (if you submit separately):\n",
        "\n",
        "Enrollment Status (109A, 121A, 209A, or E109A):"
      ]
    },
    {
      "cell_type": "markdown",
      "metadata": {
        "id": "j1x6cxtlpVp_",
        "colab_type": "text"
      },
      "source": [
        "Import libraries:"
      ]
    },
    {
      "cell_type": "code",
      "metadata": {
        "id": "wXfcDwwupVqA",
        "colab_type": "code",
        "colab": {}
      },
      "source": [
        "import numpy as np\n",
        "import pandas as pd\n",
        "import matplotlib\n",
        "import matplotlib.pyplot as plt\n",
        "from sklearn.metrics import r2_score\n",
        "import statsmodels.api as sm\n",
        "from statsmodels.api import OLS\n",
        "from sklearn.preprocessing import PolynomialFeatures\n",
        "from sklearn.linear_model import Ridge\n",
        "from sklearn.linear_model import Lasso\n",
        "from sklearn.linear_model import RidgeCV\n",
        "from sklearn.linear_model import LassoCV\n",
        "%matplotlib inline"
      ],
      "execution_count": 0,
      "outputs": []
    },
    {
      "cell_type": "markdown",
      "metadata": {
        "id": "yqVtni4lpVqD",
        "colab_type": "text"
      },
      "source": [
        "# Forecasting Bike Sharing Usage\n",
        "\n",
        "In this homework, we will focus on multiple linear regression and will explore techniques for subset selection. The specific task is to build a regression model for a bike share system that can predict the total number of bike rentals in a given day, based on attributes about the day. Such a demand forecasting model would be useful in planning the number of bikes that need to be available in the system on any given day, and also in monitoring traffic in the city. The data for this problem was collected from the Capital Bikeshare program in Washington D.C. over two years.   \n",
        "\n",
        "The data set is provided in the files `Bikeshare_train.csv` and `Bikeshare_test.csv`, as separate training and test sets. Each row in these files contains 10 attributes describing a day and its weather:\n",
        "- season (1 = spring, 2 = summer, 3 = fall, 4 = winter)\n",
        "- month (1 through 12, with 1 denoting Jan)\n",
        "- holiday (1 = the day is a holiday, 0 = otherwise)\n",
        "- day_of_week (0 through 6, with 0 denoting Sunday)\n",
        "- workingday (1 = the day is neither a holiday or weekend, 0 = otherwise)\n",
        "- weather \n",
        "    - 1: Clear, Few clouds, Partly cloudy, Partly cloudy\n",
        "    - 2: Mist + Cloudy, Mist + Broken clouds, Mist + Few clouds, Mist\n",
        "    - 3: Light Snow, Light Rain + Thunderstorm + Scattered clouds, Light Rain + Scattered clouds\n",
        "    - 4: Heavy Rain + Ice Pallets + Thunderstorm + Mist, Snow + Fog \n",
        "- temp (temperature in Celsius)\n",
        "- atemp (apparent temperature, or relative outdoor temperature, in Celsius)\n",
        "- humidity (relative humidity)\n",
        "- windspeed (wind speed)\n",
        "\n",
        "and the last column 'count' contains the response variable, i.e. total number of bike rentals on the day.\n"
      ]
    },
    {
      "cell_type": "markdown",
      "metadata": {
        "id": "Liw0Hz4xpVqE",
        "colab_type": "text"
      },
      "source": [
        "## Part (a): Data Exploration & Preprocessing\n",
        "\n",
        "As a first step, identify important characteristics of the data using suitable visualizations when necessary. Some of the questions you may ask include (but are not limited to):\n",
        "\n",
        "- How does the number of bike rentals vary between weekdays and weekends? \n",
        "- How about bike rentals on holidays?\n",
        "- What effect does the season have on the bike rentals on a given day?\n",
        "- Is the number of bike rentals lower than average when there is rain or snow?\n",
        "- How does temperature effect bike rentals?\n",
        "- Do any of the numeric attributes have a clear non-linear dependence with number of the bike rentals?\n",
        "\n"
      ]
    },
    {
      "cell_type": "code",
      "metadata": {
        "id": "ReMZtD2jpVqF",
        "colab_type": "code",
        "outputId": "23f83b6e-ce67-4f81-d61e-473c6410aec2",
        "colab": {
          "resources": {
            "http://localhost:8080/nbextensions/google.colab/files.js": {
              "data": "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",
              "ok": true,
              "headers": [
                [
                  "content-type",
                  "application/javascript"
                ]
              ],
              "status": 200,
              "status_text": ""
            }
          },
          "base_uri": "https://localhost:8080/",
          "height": 74
        }
      },
      "source": [
        "#your code here\n",
        "from google.colab import files\n",
        "\n",
        "file = files.upload()"
      ],
      "execution_count": 0,
      "outputs": [
        {
          "output_type": "display_data",
          "data": {
            "text/html": [
              "\n",
              "     <input type=\"file\" id=\"files-7562c65b-39c1-470a-9aa6-2f51cc331d3f\" name=\"files[]\" multiple disabled />\n",
              "     <output id=\"result-7562c65b-39c1-470a-9aa6-2f51cc331d3f\">\n",
              "      Upload widget is only available when the cell has been executed in the\n",
              "      current browser session. Please rerun this cell to enable.\n",
              "      </output>\n",
              "      <script src=\"/nbextensions/google.colab/files.js\"></script> "
            ],
            "text/plain": [
              "<IPython.core.display.HTML object>"
            ]
          },
          "metadata": {
            "tags": []
          }
        },
        {
          "output_type": "stream",
          "text": [
            "Saving Bikeshare_test.csv to Bikeshare_test.csv\n"
          ],
          "name": "stdout"
        }
      ]
    },
    {
      "cell_type": "code",
      "metadata": {
        "id": "bDRHRROHBeXP",
        "colab_type": "code",
        "colab": {}
      },
      "source": [
        "train = pd.read_csv(\"Bikeshare_train.csv\")"
      ],
      "execution_count": 0,
      "outputs": []
    },
    {
      "cell_type": "code",
      "metadata": {
        "id": "S5CPURjIBlAC",
        "colab_type": "code",
        "colab": {}
      },
      "source": [
        "test = pd.read_csv(\"Bikeshare_test.csv\")"
      ],
      "execution_count": 0,
      "outputs": []
    },
    {
      "cell_type": "code",
      "metadata": {
        "id": "unF3jjnBB42i",
        "colab_type": "code",
        "outputId": "853e6daf-48d1-4976-dc0b-c82df6a9e0ea",
        "colab": {
          "base_uri": "https://localhost:8080/",
          "height": 286
        }
      },
      "source": [
        "train.describe()"
      ],
      "execution_count": 0,
      "outputs": [
        {
          "output_type": "execute_result",
          "data": {
            "text/html": [
              "<div>\n",
              "<style scoped>\n",
              "    .dataframe tbody tr th:only-of-type {\n",
              "        vertical-align: middle;\n",
              "    }\n",
              "\n",
              "    .dataframe tbody tr th {\n",
              "        vertical-align: top;\n",
              "    }\n",
              "\n",
              "    .dataframe thead th {\n",
              "        text-align: right;\n",
              "    }\n",
              "</style>\n",
              "<table border=\"1\" class=\"dataframe\">\n",
              "  <thead>\n",
              "    <tr style=\"text-align: right;\">\n",
              "      <th></th>\n",
              "      <th>Unnamed: 0</th>\n",
              "      <th>season</th>\n",
              "      <th>month</th>\n",
              "      <th>holiday</th>\n",
              "      <th>day_of_week</th>\n",
              "      <th>workingday</th>\n",
              "      <th>weather</th>\n",
              "      <th>temp</th>\n",
              "      <th>atemp</th>\n",
              "      <th>humidity</th>\n",
              "      <th>windspeed</th>\n",
              "      <th>count</th>\n",
              "    </tr>\n",
              "  </thead>\n",
              "  <tbody>\n",
              "    <tr>\n",
              "      <th>count</th>\n",
              "      <td>331.000000</td>\n",
              "      <td>331.000000</td>\n",
              "      <td>331.000000</td>\n",
              "      <td>331.000000</td>\n",
              "      <td>331.000000</td>\n",
              "      <td>331.000000</td>\n",
              "      <td>331.000000</td>\n",
              "      <td>331.000000</td>\n",
              "      <td>331.000000</td>\n",
              "      <td>331.000000</td>\n",
              "      <td>331.000000</td>\n",
              "      <td>331.000000</td>\n",
              "    </tr>\n",
              "    <tr>\n",
              "      <th>mean</th>\n",
              "      <td>165.000000</td>\n",
              "      <td>2.561934</td>\n",
              "      <td>6.640483</td>\n",
              "      <td>0.033233</td>\n",
              "      <td>2.854985</td>\n",
              "      <td>0.670695</td>\n",
              "      <td>1.389728</td>\n",
              "      <td>17.018127</td>\n",
              "      <td>19.543807</td>\n",
              "      <td>63.385776</td>\n",
              "      <td>0.190833</td>\n",
              "      <td>4598.447130</td>\n",
              "    </tr>\n",
              "    <tr>\n",
              "      <th>std</th>\n",
              "      <td>95.695698</td>\n",
              "      <td>1.094726</td>\n",
              "      <td>3.353974</td>\n",
              "      <td>0.179515</td>\n",
              "      <td>2.048680</td>\n",
              "      <td>0.470672</td>\n",
              "      <td>0.546962</td>\n",
              "      <td>11.192515</td>\n",
              "      <td>9.930991</td>\n",
              "      <td>14.334789</td>\n",
              "      <td>0.078240</td>\n",
              "      <td>1935.319338</td>\n",
              "    </tr>\n",
              "    <tr>\n",
              "      <th>min</th>\n",
              "      <td>0.000000</td>\n",
              "      <td>1.000000</td>\n",
              "      <td>1.000000</td>\n",
              "      <td>0.000000</td>\n",
              "      <td>0.000000</td>\n",
              "      <td>0.000000</td>\n",
              "      <td>1.000000</td>\n",
              "      <td>-11.000000</td>\n",
              "      <td>-6.000000</td>\n",
              "      <td>25.416700</td>\n",
              "      <td>0.022392</td>\n",
              "      <td>431.000000</td>\n",
              "    </tr>\n",
              "    <tr>\n",
              "      <th>25%</th>\n",
              "      <td>82.500000</td>\n",
              "      <td>2.000000</td>\n",
              "      <td>4.000000</td>\n",
              "      <td>0.000000</td>\n",
              "      <td>1.000000</td>\n",
              "      <td>0.000000</td>\n",
              "      <td>1.000000</td>\n",
              "      <td>7.500000</td>\n",
              "      <td>11.000000</td>\n",
              "      <td>52.702900</td>\n",
              "      <td>0.133083</td>\n",
              "      <td>3370.000000</td>\n",
              "    </tr>\n",
              "    <tr>\n",
              "      <th>50%</th>\n",
              "      <td>165.000000</td>\n",
              "      <td>3.000000</td>\n",
              "      <td>7.000000</td>\n",
              "      <td>0.000000</td>\n",
              "      <td>3.000000</td>\n",
              "      <td>1.000000</td>\n",
              "      <td>1.000000</td>\n",
              "      <td>18.000000</td>\n",
              "      <td>21.000000</td>\n",
              "      <td>63.291700</td>\n",
              "      <td>0.178479</td>\n",
              "      <td>4648.000000</td>\n",
              "    </tr>\n",
              "    <tr>\n",
              "      <th>75%</th>\n",
              "      <td>247.500000</td>\n",
              "      <td>4.000000</td>\n",
              "      <td>9.500000</td>\n",
              "      <td>0.000000</td>\n",
              "      <td>5.000000</td>\n",
              "      <td>1.000000</td>\n",
              "      <td>2.000000</td>\n",
              "      <td>26.000000</td>\n",
              "      <td>27.000000</td>\n",
              "      <td>73.500000</td>\n",
              "      <td>0.235380</td>\n",
              "      <td>5981.000000</td>\n",
              "    </tr>\n",
              "    <tr>\n",
              "      <th>max</th>\n",
              "      <td>330.000000</td>\n",
              "      <td>4.000000</td>\n",
              "      <td>12.000000</td>\n",
              "      <td>1.000000</td>\n",
              "      <td>6.000000</td>\n",
              "      <td>1.000000</td>\n",
              "      <td>3.000000</td>\n",
              "      <td>38.000000</td>\n",
              "      <td>39.000000</td>\n",
              "      <td>97.250000</td>\n",
              "      <td>0.421642</td>\n",
              "      <td>8714.000000</td>\n",
              "    </tr>\n",
              "  </tbody>\n",
              "</table>\n",
              "</div>"
            ],
            "text/plain": [
              "       Unnamed: 0      season       month  ...    humidity   windspeed        count\n",
              "count  331.000000  331.000000  331.000000  ...  331.000000  331.000000   331.000000\n",
              "mean   165.000000    2.561934    6.640483  ...   63.385776    0.190833  4598.447130\n",
              "std     95.695698    1.094726    3.353974  ...   14.334789    0.078240  1935.319338\n",
              "min      0.000000    1.000000    1.000000  ...   25.416700    0.022392   431.000000\n",
              "25%     82.500000    2.000000    4.000000  ...   52.702900    0.133083  3370.000000\n",
              "50%    165.000000    3.000000    7.000000  ...   63.291700    0.178479  4648.000000\n",
              "75%    247.500000    4.000000    9.500000  ...   73.500000    0.235380  5981.000000\n",
              "max    330.000000    4.000000   12.000000  ...   97.250000    0.421642  8714.000000\n",
              "\n",
              "[8 rows x 12 columns]"
            ]
          },
          "metadata": {
            "tags": []
          },
          "execution_count": 9
        }
      ]
    },
    {
      "cell_type": "code",
      "metadata": {
        "id": "EwKayCn6FPZL",
        "colab_type": "code",
        "outputId": "fe9e9421-0b80-4168-b9b5-b2be9a60112f",
        "colab": {
          "base_uri": "https://localhost:8080/",
          "height": 319
        }
      },
      "source": [
        "\n",
        "plt.hist(train['day_of_week'], 5, facecolor='blue', alpha=0.5)"
      ],
      "execution_count": 0,
      "outputs": [
        {
          "output_type": "execute_result",
          "data": {
            "text/plain": [
              "(array([111.,  45.,  41.,  41.,  93.]),\n",
              " array([0. , 1.2, 2.4, 3.6, 4.8, 6. ]),\n",
              " <a list of 5 Patch objects>)"
            ]
          },
          "metadata": {
            "tags": []
          },
          "execution_count": 17
        },
        {
          "output_type": "display_data",
          "data": {
            "image/png": "[encoded data removed]",
            "text/plain": [
              "<Figure size 432x288 with 1 Axes>"
            ]
          },
          "metadata": {
            "tags": []
          }
        }
      ]
    },
    {
      "cell_type": "code",
      "metadata": {
        "id": "xtHUzv3PhI1Z",
        "colab_type": "code",
        "colab": {}
      },
      "source": [
        "train.rename(index=str, columns={\"count\": \"rentals\"}, inplace=True) \n",
        "test.rename(index=str, columns={\"count\": \"rentals\"}, inplace=True)"
      ],
      "execution_count": 0,
      "outputs": []
    },
    {
      "cell_type": "code",
      "metadata": {
        "id": "NNHPTSxXfmUM",
        "colab_type": "code",
        "colab": {}
      },
      "source": [
        "train.head(5)\n",
        "pd.set_option('display.max_rows', 500) "
      ],
      "execution_count": 0,
      "outputs": []
    },
    {
      "cell_type": "code",
      "metadata": {
        "id": "qmU0dcp-bWPF",
        "colab_type": "code",
        "outputId": "d329a4d7-2bc9-49ad-d28f-3efe3582d04a",
        "colab": {
          "base_uri": "https://localhost:8080/",
          "height": 300
        }
      },
      "source": [
        "import seaborn as sns\n",
        "%matplotlib inline\n",
        "\n",
        "sns.countplot(x='day_of_week',data=train)"
      ],
      "execution_count": 0,
      "outputs": [
        {
          "output_type": "execute_result",
          "data": {
            "text/plain": [
              "<matplotlib.axes._subplots.AxesSubplot at 0x7ff7a713a940>"
            ]
          },
          "metadata": {
            "tags": []
          },
          "execution_count": 12
        },
        {
          "output_type": "display_data",
          "data": {
            "image/png": "[encoded data removed]",
            "text/plain": [
              "<Figure size 432x288 with 1 Axes>"
            ]
          },
          "metadata": {
            "tags": []
          }
        }
      ]
    },
    {
      "cell_type": "code",
      "metadata": {
        "id": "Ov7PZh1DijpC",
        "colab_type": "code",
        "outputId": "5a18386e-47dd-4b31-d61b-3b89afcc11a4",
        "colab": {
          "base_uri": "https://localhost:8080/",
          "height": 297
        }
      },
      "source": [
        "#for getting the average rentals on working day and non-working data\n",
        "\n",
        "avg = [0, 0]\n",
        "\n",
        "objects = ('0', '1')\n",
        "\n",
        "y_pos = np.arange(len(objects))\n",
        "\n",
        "#check for the non-working day and sum of bike rentals on working day same for working day\n",
        "\n",
        "day = [train.loc[train['workingday'] == 0, 'rentals'].sum()]\n",
        "\n",
        "day.append(train.loc[train['workingday'] == 1,'rentals'].sum())\n",
        "\n",
        "\n",
        "# number_of_entries = list(pd.value_counts(train['workingday'].values, sort=False))\n",
        "# number_of_entries = list(reversed(number_of_entries))\n",
        "\n",
        "freq = train['workingday'].value_counts()\n",
        "\n",
        "print(number_of_entries)\n",
        "\n",
        "avg[0] = day[0]/freq[0]\n",
        "\n",
        "avg[1] = day[1]/freq[1]\n",
        "\n",
        "plt.bar(y_pos, avg, align='center', alpha=0.5) \n",
        "plt.xticks(y_pos, ['Non-working Day', 'Working Day']) \n",
        "plt.ylabel('Rental Counts') \n",
        "plt.title('Relative Rentals Weekend vs. Weekday') \n",
        "plt.show()\n",
        " "
      ],
      "execution_count": 0,
      "outputs": [
        {
          "output_type": "stream",
          "text": [
            "[109, 222]\n"
          ],
          "name": "stdout"
        },
        {
          "output_type": "display_data",
          "data": {
            "image/png": "[encoded data removed]",
            "text/plain": [
              "<Figure size 432x288 with 1 Axes>"
            ]
          },
          "metadata": {
            "tags": []
          }
        }
      ]
    },
    {
      "cell_type": "markdown",
      "metadata": {
        "id": "Bk2-TRoZbuDj",
        "colab_type": "text"
      },
      "source": [
        "\n",
        "*From the above plot we can infer that there is no much difference between bike rentals on week days and week ends.*"
      ]
    },
    {
      "cell_type": "code",
      "metadata": {
        "id": "AEAiK4qWg4y-",
        "colab_type": "code",
        "outputId": "8f46b4e9-192b-4bbf-fca4-5c75728ba406",
        "colab": {
          "base_uri": "https://localhost:8080/",
          "height": 281
        }
      },
      "source": [
        "#for getting the average rentals on working day and non-working data\n",
        "\n",
        "avg1 = [0, 0]\n",
        "\n",
        "objects = ('0', '1')\n",
        "\n",
        "y_pos = np.arange(len(objects))\n",
        "\n",
        "#check for the non-working day and sum of bike rentals on working day same for working day\n",
        "\n",
        "day1 = [train.loc[train['holiday'] == 0, 'rentals'].sum()]\n",
        "\n",
        "day1.append(train.loc[train['holiday'] == 1,'rentals'].sum())\n",
        "\n",
        "\n",
        "# number_of_entries = list(pd.value_counts(train['workingday'].values, sort=False))\n",
        "# number_of_entries = list(reversed(number_of_entries))\n",
        "\n",
        "freq1 = train['holiday'].value_counts()\n",
        "\n",
        "# print(number_of_entries)\n",
        "\n",
        "avg1[0] = day1[0]/freq1[0]\n",
        "\n",
        "avg1[1] = day1[1]/freq1[1]\n",
        "\n",
        "plt.bar(y_pos, avg1, align='center', alpha=0.5) \n",
        "plt.xticks(y_pos, ['Non-holiday', 'holiday']) \n",
        "plt.ylabel('Rental Counts') \n",
        "plt.title('Relative Rentals') \n",
        "plt.show()\n",
        " "
      ],
      "execution_count": 0,
      "outputs": [
        {
          "output_type": "display_data",
          "data": {
            "image/png": "[encoded data removed]",
            "text/plain": [
              "<Figure size 432x288 with 1 Axes>"
            ]
          },
          "metadata": {
            "tags": []
          }
        }
      ]
    },
    {
      "cell_type": "markdown",
      "metadata": {
        "id": "KES23N6-g5Nh",
        "colab_type": "text"
      },
      "source": [
        "*From the above plot we can infer that bike rentals are lesser on holidays*\n",
        "\n"
      ]
    },
    {
      "cell_type": "code",
      "metadata": {
        "id": "sLTqTkSthWKI",
        "colab_type": "code",
        "outputId": "3c456dec-e512-470f-df0d-48d6adc4d833",
        "colab": {
          "base_uri": "https://localhost:8080/",
          "height": 281
        }
      },
      "source": [
        "#for getting the average rentals on working day and non-working data\n",
        "\n",
        "avg2 = [0, 0, 0, 0]\n",
        "\n",
        "objects = ('1', '2', '3', '4')\n",
        "\n",
        "y_pos = np.arange(len(objects))\n",
        "\n",
        "#check for the non-working day and sum of bike rentals on working day same for working day\n",
        "\n",
        "day2 = [train.loc[train['season'] == 1, 'rentals'].sum()]\n",
        "\n",
        "day2.append(train.loc[train['season'] == 2,'rentals'].sum())\n",
        "\n",
        "day2.append(train.loc[train['season'] == 3,'rentals'].sum())\n",
        "\n",
        "day2.append(train.loc[train['season'] == 4,'rentals'].sum())\n",
        "\n",
        "\n",
        "# number_of_entries = list(pd.value_counts(train['workingday'].values, sort=False))\n",
        "# number_of_entries = list(reversed(number_of_entries))\n",
        "\n",
        "freq2 = train['season'].value_counts()\n",
        "\n",
        "#print(number_of_entries)\n",
        "\n",
        "\n",
        "# print(avg2)\n",
        "# print(day2)\n",
        "# print(freq2)\n",
        "# print(freq2.iat[0])\n",
        "# print(freq2.iat[1])\n",
        "# print(freq2.iat[2])\n",
        "# print(freq2.iat[3])\n",
        "# freq2.iat[1]\n",
        "avg2[0] = day2[0]/freq2.iat[1]\n",
        "\n",
        "avg2[1] = day2[1]/freq2.iat[3]\n",
        "avg2[2] = day2[2]/freq2.iat[0]\n",
        "avg2[3] = day2[3]/freq2.iat[2]\n",
        "\n",
        "\n",
        "plt.bar(y_pos, avg2, align='center', alpha=0.5) \n",
        "plt.xticks(y_pos, ['Spring', 'Summer', 'Fall', 'Winter']) \n",
        "plt.ylabel('Rental Counts') \n",
        "plt.title('Relative Rentals by season') \n",
        "plt.show()\n",
        " "
      ],
      "execution_count": 0,
      "outputs": [
        {
          "output_type": "display_data",
          "data": {
            "image/png": "[encoded data removed]",
            "text/plain": [
              "<Figure size 432x288 with 1 Axes>"
            ]
          },
          "metadata": {
            "tags": []
          }
        }
      ]
    },
    {
      "cell_type": "markdown",
      "metadata": {
        "id": "KYUH53LukQli",
        "colab_type": "text"
      },
      "source": [
        "*Only in the spring season there are very low number of bike rentals rest of all the seasons the bike rentals are more than 4800*"
      ]
    },
    {
      "cell_type": "markdown",
      "metadata": {
        "id": "bJuX5lWOpVqL",
        "colab_type": "text"
      },
      "source": [
        "## Part (b): Multiple Linear Regression\n",
        "\n",
        "We are now ready to fit a linear regression model and analyze its coefficients and residuals.\n",
        "\n",
        "- Fit a multiple linear regression model to the training set, and report its $R^2$ score on the test set.\n",
        "- *Statistical significance*: Using a t-test, find out which of estimated coefficients are statistically significant at a significance level of 5% (p-value<0.05). Based on the results of the test, answer the following questions:\n",
        "    - Which among the predictors have a positive correlation with the number of bike rentals? \n",
        "    - Does the day of a week have a relationship with bike rentals? \n",
        "    - Does the month influence the bike rentals? \n",
        "    - What effect does a holiday have on  bike rentals? \n",
        "    - Is there a difference in the coefficients assigned to `temp` and `atemp`? Give an explanation for your observation.\n",
        "- *Residual plot:* Make a plot of residuals of the fitted model ${e} = y - \\hat{y}$ as a function of the predicted value $\\hat{y}$. Note that this is different from the residual plot for simple linear regression. Draw a horizontal line denoting the zero residual value on the Y-axis. Does the plot reveal a non-linear relationship between the predictors and response? What does the plot convey about the variance of the error terms?\n"
      ]
    },
    {
      "cell_type": "code",
      "metadata": {
        "id": "oYpIl5JLpVqM",
        "colab_type": "code",
        "outputId": "10d95292-2202-4a9e-b367-927c6ded297c",
        "colab": {
          "base_uri": "https://localhost:8080/",
          "height": 70
        }
      },
      "source": [
        "\n",
        "# your code here\n",
        "#x train contains all the values in data frame except the rentals\n",
        "#same with the test\n",
        "Xtrain, ytrain = train.drop('rentals', axis =1), train['rentals'].values.reshape(-1,1)\n",
        "Xtest, ytest = test.drop('rentals', axis =1), test['rentals'].values.reshape(-1, 1)\n",
        "\n",
        "\n",
        "#building a multiple linear regression we have to fit some constant and fit the model\n",
        "mult_reg = sm.OLS(ytrain, sm.add_constant(Xtrain)).fit()\n",
        "\n",
        "ytest_pred = mult_reg.predict(sm.add_constant(Xtest))\n",
        "ytrain_pred = mult_reg.predict(sm.add_constant(Xtrain))\n",
        "\n"
      ],
      "execution_count": 57,
      "outputs": [
        {
          "output_type": "stream",
          "text": [
            "/usr/local/lib/python3.6/dist-packages/numpy/core/fromnumeric.py:2389: FutureWarning: Method .ptp is deprecated and will be removed in a future version. Use numpy.ptp instead.\n",
            "  return ptp(axis=axis, out=out, **kwargs)\n"
          ],
          "name": "stderr"
        }
      ]
    },
    {
      "cell_type": "code",
      "metadata": {
        "id": "y30wRGaKpOOf",
        "colab_type": "code",
        "colab": {
          "base_uri": "https://localhost:8080/",
          "height": 636
        },
        "outputId": "a69bb54b-dd4d-4091-d0d4-a8a033350224"
      },
      "source": [
        "print(mult_reg.summary())"
      ],
      "execution_count": 58,
      "outputs": [
        {
          "output_type": "stream",
          "text": [
            "                            OLS Regression Results                            \n",
            "==============================================================================\n",
            "Dep. Variable:                      y   R-squared:                       0.502\n",
            "Model:                            OLS   Adj. R-squared:                  0.485\n",
            "Method:                 Least Squares   F-statistic:                     29.22\n",
            "Date:                Sat, 03 Aug 2019   Prob (F-statistic):           4.13e-42\n",
            "Time:                        13:22:13   Log-Likelihood:                -2858.8\n",
            "No. Observations:                 331   AIC:                             5742.\n",
            "Df Residuals:                     319   BIC:                             5787.\n",
            "Df Model:                          11                                         \n",
            "Covariance Type:            nonrobust                                         \n",
            "===============================================================================\n",
            "                  coef    std err          t      P>|t|      [0.025      0.975]\n",
            "-------------------------------------------------------------------------------\n",
            "const        4309.1335    582.240      7.401      0.000    3163.619    5454.649\n",
            "Unnamed: 0      0.2049      0.805      0.255      0.799      -1.379       1.788\n",
            "season        469.4230    138.269      3.395      0.001     197.389     741.457\n",
            "month         -28.4239     44.038     -0.645      0.519    -115.065      58.218\n",
            "holiday      -320.7963    448.744     -0.715      0.475   -1203.667     562.075\n",
            "day_of_week    85.3508     38.023      2.245      0.025      10.542     160.159\n",
            "workingday    132.0354    170.619      0.774      0.440    -203.646     467.717\n",
            "weather      -415.4527    199.223     -2.085      0.038    -807.409     -23.496\n",
            "temp           35.6004     38.736      0.919      0.359     -40.611     111.812\n",
            "atemp          62.3174     43.893      1.420      0.157     -24.038     148.673\n",
            "humidity      -28.1259      7.820     -3.597      0.000     -43.511     -12.740\n",
            "windspeed   -2848.4230   1068.062     -2.667      0.008   -4949.759    -747.087\n",
            "==============================================================================\n",
            "Omnibus:                       20.240   Durbin-Watson:                   1.956\n",
            "Prob(Omnibus):                  0.000   Jarque-Bera (JB):                8.057\n",
            "Skew:                           0.058   Prob(JB):                       0.0178\n",
            "Kurtosis:                       2.244   Cond. No.                     2.98e+03\n",
            "==============================================================================\n",
            "\n",
            "Warnings:\n",
            "[1] Standard Errors assume that the covariance matrix of the errors is correctly specified.\n",
            "[2] The condition number is large, 2.98e+03. This might indicate that there are\n",
            "strong multicollinearity or other numerical problems.\n"
          ],
          "name": "stdout"
        }
      ]
    },
    {
      "cell_type": "markdown",
      "metadata": {
        "id": "t-DApcS1pVqP",
        "colab_type": "text"
      },
      "source": [
        "## Part (c): Checking Collinearity\n",
        "\n",
        "Does the data suffer from multi-collinearity? To answer this question, let us first analyze the correlation matrix for the data. Compute the (Pearson product-moment) correlation matrix for the predictor variables in the training set, and visualize the matrix using a heatmap. For categorical attributes, you should use each binary predictor resulting from one-hot encoding to compute their correlations.  Are there predictors that fall into natural groups based on the correlation values? \n",
        "\n",
        "*Hint:* You may use the `np.corrcoef` function to compute the correlation matrix for a data set (do not forget to transpose the data matrix). You may use `plt.pcolor` function to visualize the correlation matrix."
      ]
    },
    {
      "cell_type": "code",
      "metadata": {
        "id": "qfuD30jqpVqQ",
        "colab_type": "code",
        "colab": {
          "base_uri": "https://localhost:8080/",
          "height": 666
        },
        "outputId": "44a9d5ba-c325-451d-bdc8-4a2b2b3fc9f4"
      },
      "source": [
        "\n",
        "corr = train.drop('rentals', axis = 1).corr()\n",
        "\n",
        "plt.figure(figsize=(10,10))\n",
        "sns.heatmap(corr)"
      ],
      "execution_count": 60,
      "outputs": [
        {
          "output_type": "execute_result",
          "data": {
            "text/plain": [
              "<matplotlib.axes._subplots.AxesSubplot at 0x7ff7a45c8908>"
            ]
          },
          "metadata": {
            "tags": []
          },
          "execution_count": 60
        },
        {
          "output_type": "display_data",
          "data": {
            "image/png": "[encoded data removed]",
            "text/plain": [
              "<Figure size 720x720 with 2 Axes>"
            ]
          },
          "metadata": {
            "tags": []
          }
        }
      ]
    },
    {
      "cell_type": "markdown",
      "metadata": {
        "id": "Nk2M8FtZpVqS",
        "colab_type": "text"
      },
      "source": [
        "*temp and atemp has multi-collinearity*\n",
        "*season and months also exhibit mulit-collineairty*"
      ]
    },
    {
      "cell_type": "markdown",
      "metadata": {
        "id": "eO8B6HzKpVqT",
        "colab_type": "text"
      },
      "source": [
        "## Part (d): Subset Selection\n",
        "\n",
        "Apply either one of the following subset selection methods discussed in class to choose a minimal subset of predictors that are related to the response variable:\n",
        "- Step-wise forward selection\n",
        "- Step-wise backward selection\n",
        "\n",
        "We require you to implement both these methods *from scratch*. You may use the Bayesian Information Criterion (BIC) to choose the subset size in each method. Do these methods eliminate one or more of the redundant predictors (if any) identified in Part (c)? In each case, fit linear regression models using the identified subset of predictors to the training set. How do the test $R^2$ scores for the fitted models compare with the model fitted in Part (b) using all predictors?\n",
        "\n",
        "\n"
      ]
    },
    {
      "cell_type": "code",
      "metadata": {
        "id": "N-D30xPqpVqU",
        "colab_type": "code",
        "colab": {
          "base_uri": "https://localhost:8080/",
          "height": 234
        },
        "outputId": "686c28c3-bf77-4498-eecc-073b1593f1dc"
      },
      "source": [
        "# your code here\n",
        "\n",
        "p_values = mult_reg.summary2().tables[1]['P>|t|']\n",
        "p_values= p_values.sort_values()\n",
        "\n",
        "print(p_values)"
      ],
      "execution_count": 65,
      "outputs": [
        {
          "output_type": "stream",
          "text": [
            "const          1.209460e-12\n",
            "humidity       3.735034e-04\n",
            "season         7.729725e-04\n",
            "windspeed      8.045734e-03\n",
            "day_of_week    2.547329e-02\n",
            "weather        3.783049e-02\n",
            "atemp          1.566502e-01\n",
            "temp           3.587683e-01\n",
            "workingday     4.395865e-01\n",
            "holiday        4.752083e-01\n",
            "month          5.191054e-01\n",
            "Unnamed: 0     7.991971e-01\n",
            "Name: P>|t|, dtype: float64\n"
          ],
          "name": "stdout"
        }
      ]
    },
    {
      "cell_type": "markdown",
      "metadata": {
        "id": "z40WNnGnpVqX",
        "colab_type": "text"
      },
      "source": [
        "*from the above table we can observe the significance of all the features which are very relevant to predict the bike rentals*\n",
        "\n",
        "*some of the significant features are humidity, season, windspeed and day of the week*\n",
        "\n"
      ]
    },
    {
      "cell_type": "markdown",
      "metadata": {
        "id": "FUa_lqpmpVqX",
        "colab_type": "text"
      },
      "source": [
        "## Part (e): Cross Validation\n",
        "\n",
        "- Perform a 10-fold cross-validation procedure to select between the 3 competing models you have so far: the model with the best BIC from Step-wise forward selection, the model with the best BIC from Step-wise backward selection (if it is different), and the model with all possible predictors.  Report the average $R^2$ across all 10 validation sets for each model and compare the results.  Why do you think this is the case?\n",
        "- Evaluate each of the 3 models on the provided left out test set by calculating $R^2$.  Do the results agree with the cross-validation?  Why or why not?"
      ]
    },
    {
      "cell_type": "code",
      "metadata": {
        "id": "l-dHLFIpv-vY",
        "colab_type": "code",
        "colab": {
          "base_uri": "https://localhost:8080/",
          "height": 196
        },
        "outputId": "275e66ff-bb41-46eb-a308-8fbd6ba27647"
      },
      "source": [
        "train.head(5)"
      ],
      "execution_count": 67,
      "outputs": [
        {
          "output_type": "execute_result",
          "data": {
            "text/html": [
              "<div>\n",
              "<style scoped>\n",
              "    .dataframe tbody tr th:only-of-type {\n",
              "        vertical-align: middle;\n",
              "    }\n",
              "\n",
              "    .dataframe tbody tr th {\n",
              "        vertical-align: top;\n",
              "    }\n",
              "\n",
              "    .dataframe thead th {\n",
              "        text-align: right;\n",
              "    }\n",
              "</style>\n",
              "<table border=\"1\" class=\"dataframe\">\n",
              "  <thead>\n",
              "    <tr style=\"text-align: right;\">\n",
              "      <th></th>\n",
              "      <th>Unnamed: 0</th>\n",
              "      <th>season</th>\n",
              "      <th>month</th>\n",
              "      <th>holiday</th>\n",
              "      <th>day_of_week</th>\n",
              "      <th>workingday</th>\n",
              "      <th>weather</th>\n",
              "      <th>temp</th>\n",
              "      <th>atemp</th>\n",
              "      <th>humidity</th>\n",
              "      <th>windspeed</th>\n",
              "      <th>rentals</th>\n",
              "    </tr>\n",
              "  </thead>\n",
              "  <tbody>\n",
              "    <tr>\n",
              "      <th>0</th>\n",
              "      <td>0</td>\n",
              "      <td>2.0</td>\n",
              "      <td>5.0</td>\n",
              "      <td>0.0</td>\n",
              "      <td>2.0</td>\n",
              "      <td>1.0</td>\n",
              "      <td>2.0</td>\n",
              "      <td>24.0</td>\n",
              "      <td>26.0</td>\n",
              "      <td>76.5833</td>\n",
              "      <td>0.118167</td>\n",
              "      <td>6073.0</td>\n",
              "    </tr>\n",
              "    <tr>\n",
              "      <th>1</th>\n",
              "      <td>1</td>\n",
              "      <td>4.0</td>\n",
              "      <td>12.0</td>\n",
              "      <td>0.0</td>\n",
              "      <td>2.0</td>\n",
              "      <td>1.0</td>\n",
              "      <td>1.0</td>\n",
              "      <td>15.0</td>\n",
              "      <td>19.0</td>\n",
              "      <td>73.3750</td>\n",
              "      <td>0.174129</td>\n",
              "      <td>6606.0</td>\n",
              "    </tr>\n",
              "    <tr>\n",
              "      <th>2</th>\n",
              "      <td>2</td>\n",
              "      <td>2.0</td>\n",
              "      <td>6.0</td>\n",
              "      <td>0.0</td>\n",
              "      <td>4.0</td>\n",
              "      <td>1.0</td>\n",
              "      <td>1.0</td>\n",
              "      <td>26.0</td>\n",
              "      <td>28.0</td>\n",
              "      <td>56.9583</td>\n",
              "      <td>0.253733</td>\n",
              "      <td>7363.0</td>\n",
              "    </tr>\n",
              "    <tr>\n",
              "      <th>3</th>\n",
              "      <td>3</td>\n",
              "      <td>4.0</td>\n",
              "      <td>12.0</td>\n",
              "      <td>0.0</td>\n",
              "      <td>0.0</td>\n",
              "      <td>0.0</td>\n",
              "      <td>1.0</td>\n",
              "      <td>0.0</td>\n",
              "      <td>4.0</td>\n",
              "      <td>58.6250</td>\n",
              "      <td>0.169779</td>\n",
              "      <td>2431.0</td>\n",
              "    </tr>\n",
              "    <tr>\n",
              "      <th>4</th>\n",
              "      <td>4</td>\n",
              "      <td>3.0</td>\n",
              "      <td>9.0</td>\n",
              "      <td>0.0</td>\n",
              "      <td>3.0</td>\n",
              "      <td>1.0</td>\n",
              "      <td>3.0</td>\n",
              "      <td>23.0</td>\n",
              "      <td>23.0</td>\n",
              "      <td>91.7083</td>\n",
              "      <td>0.097021</td>\n",
              "      <td>1996.0</td>\n",
              "    </tr>\n",
              "  </tbody>\n",
              "</table>\n",
              "</div>"
            ],
            "text/plain": [
              "   Unnamed: 0  season  month  holiday  ...  atemp  humidity  windspeed  rentals\n",
              "0           0     2.0    5.0      0.0  ...   26.0   76.5833   0.118167   6073.0\n",
              "1           1     4.0   12.0      0.0  ...   19.0   73.3750   0.174129   6606.0\n",
              "2           2     2.0    6.0      0.0  ...   28.0   56.9583   0.253733   7363.0\n",
              "3           3     4.0   12.0      0.0  ...    4.0   58.6250   0.169779   2431.0\n",
              "4           4     3.0    9.0      0.0  ...   23.0   91.7083   0.097021   1996.0\n",
              "\n",
              "[5 rows x 12 columns]"
            ]
          },
          "metadata": {
            "tags": []
          },
          "execution_count": 67
        }
      ]
    },
    {
      "cell_type": "code",
      "metadata": {
        "id": "GIr9flG-pVqY",
        "colab_type": "code",
        "colab": {
          "base_uri": "https://localhost:8080/",
          "height": 70
        },
        "outputId": "e9700f58-82b1-4f8f-c754-7155d5dcce81"
      },
      "source": [
        "# your code here\n",
        "#x train contains all the values in data frame except the rentals\n",
        "#same with the test\n",
        "Xtrain, ytrain = train.drop(['rentals','holiday','workingday','temp','month'], axis =1), train['rentals'].values.reshape(-1,1)\n",
        "Xtest, ytest = test.drop(['rentals','holiday','temp', 'workingday', 'month'], axis =1), test['rentals'].values.reshape(-1, 1)\n",
        "\n",
        "\n",
        "#building a multiple linear regression we have to fit some constant and fit the model\n",
        "mult_reg = sm.OLS(ytrain, sm.add_constant(Xtrain)).fit()\n",
        "\n",
        "ytest_pred = mult_reg.predict(sm.add_constant(Xtest))\n",
        "ytrain_pred = mult_reg.predict(sm.add_constant(Xtrain))"
      ],
      "execution_count": 100,
      "outputs": [
        {
          "output_type": "stream",
          "text": [
            "/usr/local/lib/python3.6/dist-packages/numpy/core/fromnumeric.py:2389: FutureWarning: Method .ptp is deprecated and will be removed in a future version. Use numpy.ptp instead.\n",
            "  return ptp(axis=axis, out=out, **kwargs)\n"
          ],
          "name": "stderr"
        }
      ]
    },
    {
      "cell_type": "code",
      "metadata": {
        "id": "7DzKJCLvwXVG",
        "colab_type": "code",
        "colab": {
          "base_uri": "https://localhost:8080/",
          "height": 569
        },
        "outputId": "4c3d8c09-facf-48c5-c425-d20ed2e2d230"
      },
      "source": [
        "print(mult_reg.summary())"
      ],
      "execution_count": 101,
      "outputs": [
        {
          "output_type": "stream",
          "text": [
            "                            OLS Regression Results                            \n",
            "==============================================================================\n",
            "Dep. Variable:                      y   R-squared:                       0.497\n",
            "Model:                            OLS   Adj. R-squared:                  0.487\n",
            "Method:                 Least Squares   F-statistic:                     45.67\n",
            "Date:                Sat, 03 Aug 2019   Prob (F-statistic):           1.01e-44\n",
            "Time:                        14:16:51   Log-Likelihood:                -2860.3\n",
            "No. Observations:                 331   AIC:                             5737.\n",
            "Df Residuals:                     323   BIC:                             5767.\n",
            "Df Model:                           7                                         \n",
            "Covariance Type:            nonrobust                                         \n",
            "===============================================================================\n",
            "                  coef    std err          t      P>|t|      [0.025      0.975]\n",
            "-------------------------------------------------------------------------------\n",
            "const        4131.8854    526.253      7.852      0.000    3096.570    5167.201\n",
            "Unnamed: 0      0.2334      0.802      0.291      0.771      -1.343       1.810\n",
            "season        394.3279     75.887      5.196      0.000     245.033     543.622\n",
            "day_of_week    96.1273     37.340      2.574      0.010      22.668     169.587\n",
            "weather      -386.3551    197.459     -1.957      0.051    -774.824       2.114\n",
            "atemp         103.1425      8.453     12.202      0.000      86.513     119.772\n",
            "humidity      -28.6328      7.769     -3.686      0.000     -43.916     -13.349\n",
            "windspeed   -2728.0006   1057.194     -2.580      0.010   -4807.856    -648.145\n",
            "==============================================================================\n",
            "Omnibus:                       15.202   Durbin-Watson:                   1.948\n",
            "Prob(Omnibus):                  0.000   Jarque-Bera (JB):                6.862\n",
            "Skew:                           0.064   Prob(JB):                       0.0324\n",
            "Kurtosis:                       2.306   Cond. No.                     2.92e+03\n",
            "==============================================================================\n",
            "\n",
            "Warnings:\n",
            "[1] Standard Errors assume that the covariance matrix of the errors is correctly specified.\n",
            "[2] The condition number is large, 2.92e+03. This might indicate that there are\n",
            "strong multicollinearity or other numerical problems.\n"
          ],
          "name": "stdout"
        }
      ]
    },
    {
      "cell_type": "markdown",
      "metadata": {
        "id": "f6dNCzMb14oW",
        "colab_type": "text"
      },
      "source": [
        "*from the summary we can come to a conclusion that temp, season, day_of_week, weather and humidity are most significant features in the data set*\n",
        "\n",
        "\n",
        "so we can just consider these variables for our model prediction"
      ]
    }
  ]
}